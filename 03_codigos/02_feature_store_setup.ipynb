{
 "cells": [
  {
   "cell_type": "markdown",
   "metadata": {},
   "source": [
    "# Configuração Inicial"
   ]
  },
  {
   "cell_type": "code",
   "execution_count": null,
   "metadata": {},
   "outputs": [],
   "source": [
    "# Importando bibliotecas\n",
    "import os\n",
    "from datetime import datetime \n",
    "from feast import (Entity,\n",
    "                   FeatureService,\n",
    "                   FeatureView,\n",
    "                   Field,\n",
    "                   FileSource,\n",
    "                   PushSource,\n",
    "                   RequestSource)\n",
    "\n",
    "from feast.types import String, Float64, Float32, Int64\n",
    "\n",
    "# Definindo paths\n",
    "path_codigos = os.getcwd()\n",
    "path_projeto = os.path.dirname(path_codigos)\n",
    "path_data = os.path.join(path_projeto, \"02_data\")\n",
    "path_bronze = os.path.join(path_data, \"01_bronze\")\n",
    "path_silver = os.path.join(path_data, \"02_silver\")"
   ]
  },
  {
   "cell_type": "markdown",
   "metadata": {},
   "source": [
    "# Feature Store Setup"
   ]
  },
  {
   "cell_type": "code",
   "execution_count": null,
   "metadata": {},
   "outputs": [],
   "source": [
    "# Criando entity\n",
    "adult_entity = Entity(name = \"adult\", join_keys = [\"adult_id\"])\n",
    "\n",
    "# Definindo File Source\n",
    "adult_income_file_source = FileSource(name = \"adult_income_source\",\n",
    "                                      path = os.path.join(path_silver, \"adult_dataset_proc.parquet\"),\n",
    "                                      timestamp_field = \"event_timestamp\",\n",
    "                                      )\n",
    "\n",
    "# Definindo Feature View\n",
    "a"
   ]
  }
 ],
 "metadata": {
  "kernelspec": {
   "display_name": "venv_feast",
   "language": "python",
   "name": "python3"
  },
  "language_info": {
   "name": "python",
   "version": "3.12.5"
  }
 },
 "nbformat": 4,
 "nbformat_minor": 2
}
