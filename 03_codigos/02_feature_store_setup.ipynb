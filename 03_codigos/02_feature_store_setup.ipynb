{
 "cells": [
  {
   "cell_type": "markdown",
   "metadata": {},
   "source": [
    "# Configuração Inicial"
   ]
  },
  {
   "cell_type": "code",
   "execution_count": null,
   "metadata": {},
   "outputs": [],
   "source": [
    "# Importando bibliotecas\n",
    "import os\n",
    "from datetime import datetime \n",
    "from feast import (Entity,\n",
    "                   FeatureService,\n",
    "                   FeatureView,\n",
    "                   Field,\n",
    "                   FileSource,\n",
    "                   PushSource,\n",
    "                   RequestSource)\n",
    "\n",
    "from feast.types import STRING, FLOAT64, INT64\n",
    "\n",
    "# Definindo paths\n",
    "path_codigos = os.getcwd()\n",
    "path_projeto = os.path.dirname(path_codigos)\n",
    "path_data = os.path.join(path_projeto, \"02_data\")\n",
    "path_bronze = os.path.join(path_data, \"01_bronze\")\n",
    "path_silver = os.path.join(path_data, \"02_silver\")"
   ]
  },
  {
   "cell_type": "markdown",
   "metadata": {},
   "source": [
    "# Feature Store Setup"
   ]
  },
  {
   "cell_type": "code",
   "execution_count": null,
   "metadata": {},
   "outputs": [],
   "source": [
    "# Criando entity\n",
    "adult_entity = Entity(name = \"adult\", join_keys = [\"adult_id\"])\n",
    "\n",
    "# Definindo File Source - Dados Históricos\n",
    "adult_hist_db_file_source = FileSource(name = \"adult_hist_db_source\",\n",
    "                                      path = os.path.join(path_silver, \"adult_dataset_hist.parquet\"),\n",
    "                                      timestamp_field = \"event_timestamp\",\n",
    "                                      )\n",
    "\n",
    "# Definindo File Source - Dados para Inferência\n",
    "adult_inf_db_file_source = FileSource(name = \"adult_inf_db_source\",\n",
    "                                      path = os.path.join(path_silver, \"adult_dataset_inf.parquet\"),\n",
    "                                      timestamp_field = \"event_timestamp\",\n",
    "                                      )\n",
    "\n",
    "# Definindo Feature View - Dados Históricos\n",
    "adult_hist_social_dv = FeatureView(name = \"adult_hist_social_data\",\n",
    "                              entities = [adult_entity],\n",
    "                              schema = [Field(name = \"age\", dtype = INT64),\n",
    "                              Field(name = \"race\", dtype = STRING),\n",
    "                              Field(name = \"education\", dtype = STRING),\n",
    "                              Field(name = \"education-num\", dtype = INT64),\n",
    "                              Field(name = \"marital-status\", dtype = STRING),\n",
    "                              Field(name = \"sex\", dtype = STRING),\n",
    "                              Field(name = \"native-country\", dtype = STRING)],\n",
    "                              source = adult_hist_db_file_source)\n",
    "\n",
    "adult_hist_income_dv = FeatureView(name = \"adult_hist_income_data\",\n",
    "                              entities = [adult_entity],\n",
    "                              schema = [Field(name = \"workclass\", dtype = string),\n",
    "                              Field(name = \"occupation\", dtype = STRING),\n",
    "                              Field(name = \"capital-gain\", dtype = INT64),\n",
    "                              Field(name = \"capital-loss\", dtype = INT64),\n",
    "                              Field(name = \"income\", dtype = STRING)],\n",
    "                              source = adult_hist_db_file_source)\n",
    "\n",
    "# Definindo Feature View - Dados para Inferência\n",
    "adult_inf_social_dv = FeatureView(name = \"adult_inf_social_data\",\n",
    "                              entities = [adult_entity],\n",
    "                              schema = [Field(name = \"age\", dtype = INT64),\n",
    "                              Field(name = \"race\", dtype = STRING),\n",
    "                              Field(name = \"education\", dtype = STRING),\n",
    "                              Field(name = \"education-num\", dtype = INT64),\n",
    "                              Field(name = \"marital-status\", dtype = STRING),\n",
    "                              Field(name = \"sex\", dtype = STRING),\n",
    "                              Field(name = \"native-country\", dtype = STRING)],\n",
    "                              source = adult_inf_db_file_source)\n",
    "\n",
    "adult_inf_income_dv = FeatureView(name = \"adult_inf_income_data\",\n",
    "                              entities = [adult_entity],\n",
    "                              schema = [Field(name = \"workclass\", dtype = string),\n",
    "                              Field(name = \"occupation\", dtype = STRING),\n",
    "                              Field(name = \"capital-gain\", dtype = INT64),\n",
    "                              Field(name = \"capital-loss\", dtype = INT64)],\n",
    "                              source = adult_inf_db_file_source)"
   ]
  }
 ],
 "metadata": {
  "kernelspec": {
   "display_name": "venv_feast",
   "language": "python",
   "name": "python3"
  },
  "language_info": {
   "name": "python",
   "version": "3.12.5"
  }
 },
 "nbformat": 4,
 "nbformat_minor": 2
}
